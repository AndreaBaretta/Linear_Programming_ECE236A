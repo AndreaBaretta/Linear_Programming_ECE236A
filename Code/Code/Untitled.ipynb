{
 "cells": [
  {
   "cell_type": "code",
   "execution_count": 113,
   "id": "d56f4a05",
   "metadata": {},
   "outputs": [],
   "source": [
    "import numpy as np\n",
    "import scipy"
   ]
  },
  {
   "cell_type": "code",
   "execution_count": 18,
   "id": "379dab93",
   "metadata": {},
   "outputs": [],
   "source": [
    "n, f, k = 2, 5, 3"
   ]
  },
  {
   "cell_type": "code",
   "execution_count": 59,
   "id": "e34706a9",
   "metadata": {},
   "outputs": [],
   "source": [
    "x = np.array([[0, 1, 2, 3, 4],\n",
    "              [5, 6, 7, 8, 9]], dtype=np.float32)\n",
    "y = np.array([0,2])"
   ]
  },
  {
   "cell_type": "code",
   "execution_count": 60,
   "id": "febc0b95",
   "metadata": {},
   "outputs": [
    {
     "data": {
      "text/plain": [
       "(array([[0., 1., 2., 3., 4.],\n",
       "        [5., 6., 7., 8., 9.]], dtype=float32),\n",
       " array([0, 2]))"
      ]
     },
     "execution_count": 60,
     "metadata": {},
     "output_type": "execute_result"
    }
   ],
   "source": [
    "x, y"
   ]
  },
  {
   "cell_type": "code",
   "execution_count": 61,
   "id": "15740e43",
   "metadata": {},
   "outputs": [],
   "source": [
    "X = np.zeros((n*k,k*f))\n",
    "for i in range(n):\n",
    "    for j in range(k):\n",
    "        X[i*k + j, j*f:j*f+f] = x[i,:]"
   ]
  },
  {
   "cell_type": "code",
   "execution_count": 62,
   "id": "50016c72",
   "metadata": {},
   "outputs": [
    {
     "data": {
      "text/plain": [
       "array([[0., 1., 2., 3., 4., 0., 0., 0., 0., 0., 0., 0., 0., 0., 0.],\n",
       "       [0., 0., 0., 0., 0., 0., 1., 2., 3., 4., 0., 0., 0., 0., 0.],\n",
       "       [0., 0., 0., 0., 0., 0., 0., 0., 0., 0., 0., 1., 2., 3., 4.],\n",
       "       [5., 6., 7., 8., 9., 0., 0., 0., 0., 0., 0., 0., 0., 0., 0.],\n",
       "       [0., 0., 0., 0., 0., 5., 6., 7., 8., 9., 0., 0., 0., 0., 0.],\n",
       "       [0., 0., 0., 0., 0., 0., 0., 0., 0., 0., 5., 6., 7., 8., 9.]])"
      ]
     },
     "execution_count": 62,
     "metadata": {},
     "output_type": "execute_result"
    }
   ],
   "source": [
    "X"
   ]
  },
  {
   "cell_type": "code",
   "execution_count": 69,
   "id": "d69832c9",
   "metadata": {},
   "outputs": [],
   "source": [
    "Y = np.zeros((n,k))\n",
    "Y[np.arange(n),y] = 1\n",
    "Y = Y.reshape((n*k,))"
   ]
  },
  {
   "cell_type": "code",
   "execution_count": 70,
   "id": "b6d415ec",
   "metadata": {},
   "outputs": [
    {
     "data": {
      "text/plain": [
       "array([1., 0., 0., 0., 0., 1.])"
      ]
     },
     "execution_count": 70,
     "metadata": {},
     "output_type": "execute_result"
    }
   ],
   "source": [
    "Y"
   ]
  },
  {
   "cell_type": "code",
   "execution_count": 115,
   "id": "d8813eea",
   "metadata": {},
   "outputs": [],
   "source": [
    "c = np.concat([np.ones(n*k), np.zeros(f*k)])"
   ]
  },
  {
   "cell_type": "code",
   "execution_count": 96,
   "id": "48b5ae0c",
   "metadata": {},
   "outputs": [],
   "source": [
    "A_ub = np.concat([\n",
    "    np.concat([-X,               -np.eye(n*k)],        axis=1),\n",
    "    np.concat([ X,               -np.eye(n*k)],        axis=1),\n",
    "    np.concat([-X,               np.zeros((n*k,n*k))], axis=1),\n",
    "    np.concat([np.zeros_like(X), -np.eye(n*k)],        axis=1),\n",
    "], axis=0)"
   ]
  },
  {
   "cell_type": "code",
   "execution_count": 99,
   "id": "9d5fdbd8",
   "metadata": {},
   "outputs": [
    {
     "data": {
      "text/plain": [
       "((24, 21), (24, 21))"
      ]
     },
     "execution_count": 99,
     "metadata": {},
     "output_type": "execute_result"
    }
   ],
   "source": [
    "A_ub.shape, (4*n*k, k*f+n*k)"
   ]
  },
  {
   "cell_type": "code",
   "execution_count": 108,
   "id": "391349fe",
   "metadata": {},
   "outputs": [],
   "source": [
    "b_ub = np.concat([\n",
    "    -Y,\n",
    "    Y,\n",
    "    np.zeros_like(Y),\n",
    "    np.zeros_like(Y)\n",
    "], axis=0)"
   ]
  },
  {
   "cell_type": "code",
   "execution_count": 109,
   "id": "1d9941b3",
   "metadata": {},
   "outputs": [
    {
     "data": {
      "text/plain": [
       "(24,)"
      ]
     },
     "execution_count": 109,
     "metadata": {},
     "output_type": "execute_result"
    }
   ],
   "source": [
    "b_ub.shape"
   ]
  },
  {
   "cell_type": "code",
   "execution_count": 118,
   "id": "741e0f6c",
   "metadata": {},
   "outputs": [],
   "source": [
    "one_mat = np.repeat(np.eye(n), k, axis=1)\n",
    "A_eq = np.concat([\n",
    "    one_mat@X, np.zeros((n,n*k))\n",
    "], axis=1)\n",
    "b_eq = np.ones(n)"
   ]
  },
  {
   "cell_type": "code",
   "execution_count": 119,
   "id": "3161477f",
   "metadata": {},
   "outputs": [
    {
     "data": {
      "text/plain": [
       "array([[1., 1., 1., 0., 0., 0.],\n",
       "       [0., 0., 0., 1., 1., 1.]])"
      ]
     },
     "execution_count": 119,
     "metadata": {},
     "output_type": "execute_result"
    }
   ],
   "source": [
    "one_mat"
   ]
  },
  {
   "cell_type": "code",
   "execution_count": 110,
   "id": "9af8cbfb",
   "metadata": {},
   "outputs": [
    {
     "data": {
      "text/plain": [
       "(2, 15)"
      ]
     },
     "execution_count": 110,
     "metadata": {},
     "output_type": "execute_result"
    }
   ],
   "source": [
    "A_eq.shape"
   ]
  },
  {
   "cell_type": "code",
   "execution_count": 116,
   "id": "10326996",
   "metadata": {},
   "outputs": [
    {
     "data": {
      "text/plain": [
       "array([1., 1., 1., 1., 1., 1., 0., 0., 0., 0., 0., 0., 0., 0., 0., 0., 0.,\n",
       "       0., 0., 0., 0.])"
      ]
     },
     "execution_count": 116,
     "metadata": {},
     "output_type": "execute_result"
    }
   ],
   "source": [
    "c"
   ]
  },
  {
   "cell_type": "code",
   "execution_count": 123,
   "id": "828f37a9",
   "metadata": {},
   "outputs": [],
   "source": [
    "res = scipy.optimize.linprog(c, A_ub, b_ub, A_eq, b_eq)"
   ]
  },
  {
   "cell_type": "code",
   "execution_count": 124,
   "id": "f5649c12",
   "metadata": {},
   "outputs": [
    {
     "data": {
      "text/plain": [
       "       message: The problem is infeasible. (HiGHS Status 8: model_status is Infeasible; primal_status is At lower/fixed bound)\n",
       "       success: False\n",
       "        status: 2\n",
       "           fun: None\n",
       "             x: None\n",
       "           nit: 2\n",
       "         lower:  residual: None\n",
       "                marginals: None\n",
       "         upper:  residual: None\n",
       "                marginals: None\n",
       "         eqlin:  residual: None\n",
       "                marginals: None\n",
       "       ineqlin:  residual: None\n",
       "                marginals: None"
      ]
     },
     "execution_count": 124,
     "metadata": {},
     "output_type": "execute_result"
    }
   ],
   "source": [
    "res"
   ]
  },
  {
   "cell_type": "code",
   "execution_count": null,
   "id": "91573c9f",
   "metadata": {},
   "outputs": [],
   "source": []
  }
 ],
 "metadata": {
  "kernelspec": {
   "display_name": "Python 3 (ipykernel)",
   "language": "python",
   "name": "python3"
  },
  "language_info": {
   "codemirror_mode": {
    "name": "ipython",
    "version": 3
   },
   "file_extension": ".py",
   "mimetype": "text/x-python",
   "name": "python",
   "nbconvert_exporter": "python",
   "pygments_lexer": "ipython3",
   "version": "3.13.0"
  }
 },
 "nbformat": 4,
 "nbformat_minor": 5
}
